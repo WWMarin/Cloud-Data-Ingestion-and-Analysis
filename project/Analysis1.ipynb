{
 "cells": [
  {
   "cell_type": "markdown",
   "id": "10df9de2",
   "metadata": {},
   "source": [
    "# Data Analysis 1\n",
    "## In this analysis we will find the number of sales order details for each sales order, only for sales orders with three or more detail lines"
   ]
  },
  {
   "cell_type": "markdown",
   "id": "b4ff96a7",
   "metadata": {},
   "source": [
    "First we connect to the cloud database, run an SQL query for the necessary data and store it in a pandas dataframe.\n",
    "As the only necessary table for this analysis is the ``SalesOrderDetail`` table, this query will be simple."
   ]
  },
  {
   "cell_type": "code",
   "execution_count": 1,
   "id": "dafb73c4",
   "metadata": {},
   "outputs": [],
   "source": [
    "import pandas.io.sql as sqlio\n",
    "import psycopg2\n",
    "from config import config\n",
    "\n",
    "params = config()\n",
    "conn = psycopg2.connect(**params)\n",
    "sql = 'select * from \\\"SalesOrderDetail\\\";'\n",
    "df1 = sqlio.read_sql_query(sql, conn)\n",
    "conn.close()"
   ]
  },
  {
   "cell_type": "markdown",
   "id": "e874801b",
   "metadata": {},
   "source": [
    "Let's inspect the dataframe."
   ]
  },
  {
   "cell_type": "code",
   "execution_count": 2,
   "id": "02321527",
   "metadata": {
    "scrolled": false
   },
   "outputs": [
    {
     "data": {
      "text/html": [
       "<div>\n",
       "<style scoped>\n",
       "    .dataframe tbody tr th:only-of-type {\n",
       "        vertical-align: middle;\n",
       "    }\n",
       "\n",
       "    .dataframe tbody tr th {\n",
       "        vertical-align: top;\n",
       "    }\n",
       "\n",
       "    .dataframe thead th {\n",
       "        text-align: right;\n",
       "    }\n",
       "</style>\n",
       "<table border=\"1\" class=\"dataframe\">\n",
       "  <thead>\n",
       "    <tr style=\"text-align: right;\">\n",
       "      <th></th>\n",
       "      <th>SalesOrderID</th>\n",
       "      <th>SalesOrderDetailID</th>\n",
       "      <th>CarrierTrackingNumber</th>\n",
       "      <th>OrderQty</th>\n",
       "      <th>ProductID</th>\n",
       "      <th>SpecialOfferID</th>\n",
       "      <th>UnitPrice</th>\n",
       "      <th>UnitPriceDiscount</th>\n",
       "      <th>LineTotal</th>\n",
       "      <th>rowguid</th>\n",
       "      <th>ModifiedDate</th>\n",
       "    </tr>\n",
       "  </thead>\n",
       "  <tbody>\n",
       "    <tr>\n",
       "      <th>0</th>\n",
       "      <td>43659</td>\n",
       "      <td>1</td>\n",
       "      <td>4911-403C-98</td>\n",
       "      <td>1</td>\n",
       "      <td>776</td>\n",
       "      <td>1</td>\n",
       "      <td>2024.994</td>\n",
       "      <td>0.0</td>\n",
       "      <td>2024.994</td>\n",
       "      <td>B207C96D-D9E6-402B-8470-2CC176C42283</td>\n",
       "      <td>2011-05-31</td>\n",
       "    </tr>\n",
       "    <tr>\n",
       "      <th>1</th>\n",
       "      <td>43659</td>\n",
       "      <td>2</td>\n",
       "      <td>4911-403C-98</td>\n",
       "      <td>3</td>\n",
       "      <td>777</td>\n",
       "      <td>1</td>\n",
       "      <td>2024.994</td>\n",
       "      <td>0.0</td>\n",
       "      <td>6074.982</td>\n",
       "      <td>7ABB600D-1E77-41BE-9FE5-B9142CFC08FA</td>\n",
       "      <td>2011-05-31</td>\n",
       "    </tr>\n",
       "    <tr>\n",
       "      <th>2</th>\n",
       "      <td>43659</td>\n",
       "      <td>3</td>\n",
       "      <td>4911-403C-98</td>\n",
       "      <td>1</td>\n",
       "      <td>778</td>\n",
       "      <td>1</td>\n",
       "      <td>2024.994</td>\n",
       "      <td>0.0</td>\n",
       "      <td>2024.994</td>\n",
       "      <td>475CF8C6-49F6-486E-B0AD-AFC6A50CDD2F</td>\n",
       "      <td>2011-05-31</td>\n",
       "    </tr>\n",
       "  </tbody>\n",
       "</table>\n",
       "</div>"
      ],
      "text/plain": [
       "   SalesOrderID  SalesOrderDetailID CarrierTrackingNumber  OrderQty  \\\n",
       "0         43659                   1          4911-403C-98         1   \n",
       "1         43659                   2          4911-403C-98         3   \n",
       "2         43659                   3          4911-403C-98         1   \n",
       "\n",
       "   ProductID  SpecialOfferID  UnitPrice  UnitPriceDiscount  LineTotal  \\\n",
       "0        776               1   2024.994                0.0   2024.994   \n",
       "1        777               1   2024.994                0.0   6074.982   \n",
       "2        778               1   2024.994                0.0   2024.994   \n",
       "\n",
       "                                rowguid ModifiedDate  \n",
       "0  B207C96D-D9E6-402B-8470-2CC176C42283   2011-05-31  \n",
       "1  7ABB600D-1E77-41BE-9FE5-B9142CFC08FA   2011-05-31  \n",
       "2  475CF8C6-49F6-486E-B0AD-AFC6A50CDD2F   2011-05-31  "
      ]
     },
     "metadata": {},
     "output_type": "display_data"
    }
   ],
   "source": [
    "from IPython.display import display\n",
    "\n",
    "display(df1.head(3))"
   ]
  },
  {
   "cell_type": "markdown",
   "id": "6a1d03ff",
   "metadata": {},
   "source": [
    "Next let's create a new dataframe with the number of detail lines for each sales order. As we won't need the other variables anymore, let's drop them and rename the ``SalesOrderDetailID`` column to ``NumDetails``."
   ]
  },
  {
   "cell_type": "code",
   "execution_count": 3,
   "id": "3d86b310",
   "metadata": {
    "scrolled": false
   },
   "outputs": [],
   "source": [
    "df2 = df1.groupby(by = ['SalesOrderID']).count()[['SalesOrderDetailID']].rename(columns = {'SalesOrderDetailID': 'NumDetails'}).reset_index()"
   ]
  },
  {
   "cell_type": "markdown",
   "id": "144881aa",
   "metadata": {},
   "source": [
    "This is what our new dataframe looks like."
   ]
  },
  {
   "cell_type": "code",
   "execution_count": 4,
   "id": "c4689320",
   "metadata": {
    "scrolled": false
   },
   "outputs": [
    {
     "data": {
      "text/html": [
       "<div>\n",
       "<style scoped>\n",
       "    .dataframe tbody tr th:only-of-type {\n",
       "        vertical-align: middle;\n",
       "    }\n",
       "\n",
       "    .dataframe tbody tr th {\n",
       "        vertical-align: top;\n",
       "    }\n",
       "\n",
       "    .dataframe thead th {\n",
       "        text-align: right;\n",
       "    }\n",
       "</style>\n",
       "<table border=\"1\" class=\"dataframe\">\n",
       "  <thead>\n",
       "    <tr style=\"text-align: right;\">\n",
       "      <th></th>\n",
       "      <th>SalesOrderID</th>\n",
       "      <th>NumDetails</th>\n",
       "    </tr>\n",
       "  </thead>\n",
       "  <tbody>\n",
       "    <tr>\n",
       "      <th>0</th>\n",
       "      <td>43659</td>\n",
       "      <td>12</td>\n",
       "    </tr>\n",
       "    <tr>\n",
       "      <th>1</th>\n",
       "      <td>43660</td>\n",
       "      <td>2</td>\n",
       "    </tr>\n",
       "    <tr>\n",
       "      <th>2</th>\n",
       "      <td>43661</td>\n",
       "      <td>15</td>\n",
       "    </tr>\n",
       "  </tbody>\n",
       "</table>\n",
       "</div>"
      ],
      "text/plain": [
       "   SalesOrderID  NumDetails\n",
       "0         43659          12\n",
       "1         43660           2\n",
       "2         43661          15"
      ]
     },
     "metadata": {},
     "output_type": "display_data"
    }
   ],
   "source": [
    "display(df2.head(3))"
   ]
  },
  {
   "cell_type": "markdown",
   "id": "6ea210f1",
   "metadata": {},
   "source": [
    "Now let's create a third dataframe, one that only shows the number of detail lines for each sales order with three or more detail lines."
   ]
  },
  {
   "cell_type": "code",
   "execution_count": 5,
   "id": "b03eb627",
   "metadata": {
    "scrolled": true
   },
   "outputs": [],
   "source": [
    "df3 = df2.drop(df2[df2['NumDetails'] < 3].index).reset_index(drop = True)"
   ]
  },
  {
   "cell_type": "markdown",
   "id": "75771884",
   "metadata": {},
   "source": [
    "This is our final dataframe."
   ]
  },
  {
   "cell_type": "code",
   "execution_count": 6,
   "id": "4678d503",
   "metadata": {
    "scrolled": false
   },
   "outputs": [
    {
     "data": {
      "text/html": [
       "<div>\n",
       "<style scoped>\n",
       "    .dataframe tbody tr th:only-of-type {\n",
       "        vertical-align: middle;\n",
       "    }\n",
       "\n",
       "    .dataframe tbody tr th {\n",
       "        vertical-align: top;\n",
       "    }\n",
       "\n",
       "    .dataframe thead th {\n",
       "        text-align: right;\n",
       "    }\n",
       "</style>\n",
       "<table border=\"1\" class=\"dataframe\">\n",
       "  <thead>\n",
       "    <tr style=\"text-align: right;\">\n",
       "      <th></th>\n",
       "      <th>SalesOrderID</th>\n",
       "      <th>NumDetails</th>\n",
       "    </tr>\n",
       "  </thead>\n",
       "  <tbody>\n",
       "    <tr>\n",
       "      <th>0</th>\n",
       "      <td>43659</td>\n",
       "      <td>12</td>\n",
       "    </tr>\n",
       "    <tr>\n",
       "      <th>1</th>\n",
       "      <td>43661</td>\n",
       "      <td>15</td>\n",
       "    </tr>\n",
       "    <tr>\n",
       "      <th>2</th>\n",
       "      <td>43662</td>\n",
       "      <td>22</td>\n",
       "    </tr>\n",
       "    <tr>\n",
       "      <th>3</th>\n",
       "      <td>43664</td>\n",
       "      <td>8</td>\n",
       "    </tr>\n",
       "    <tr>\n",
       "      <th>4</th>\n",
       "      <td>43665</td>\n",
       "      <td>10</td>\n",
       "    </tr>\n",
       "    <tr>\n",
       "      <th>...</th>\n",
       "      <td>...</td>\n",
       "      <td>...</td>\n",
       "    </tr>\n",
       "    <tr>\n",
       "      <th>12752</th>\n",
       "      <td>75118</td>\n",
       "      <td>4</td>\n",
       "    </tr>\n",
       "    <tr>\n",
       "      <th>12753</th>\n",
       "      <td>75119</td>\n",
       "      <td>3</td>\n",
       "    </tr>\n",
       "    <tr>\n",
       "      <th>12754</th>\n",
       "      <td>75120</td>\n",
       "      <td>3</td>\n",
       "    </tr>\n",
       "    <tr>\n",
       "      <th>12755</th>\n",
       "      <td>75121</td>\n",
       "      <td>3</td>\n",
       "    </tr>\n",
       "    <tr>\n",
       "      <th>12756</th>\n",
       "      <td>75123</td>\n",
       "      <td>3</td>\n",
       "    </tr>\n",
       "  </tbody>\n",
       "</table>\n",
       "<p>12757 rows × 2 columns</p>\n",
       "</div>"
      ],
      "text/plain": [
       "       SalesOrderID  NumDetails\n",
       "0             43659          12\n",
       "1             43661          15\n",
       "2             43662          22\n",
       "3             43664           8\n",
       "4             43665          10\n",
       "...             ...         ...\n",
       "12752         75118           4\n",
       "12753         75119           3\n",
       "12754         75120           3\n",
       "12755         75121           3\n",
       "12756         75123           3\n",
       "\n",
       "[12757 rows x 2 columns]"
      ]
     },
     "metadata": {},
     "output_type": "display_data"
    }
   ],
   "source": [
    "display(df3)"
   ]
  },
  {
   "cell_type": "markdown",
   "id": "e6af75c5",
   "metadata": {},
   "source": [
    "The total number of rows in this dataframe is."
   ]
  },
  {
   "cell_type": "code",
   "execution_count": 7,
   "id": "fff5cec1",
   "metadata": {},
   "outputs": [
    {
     "name": "stdout",
     "output_type": "stream",
     "text": [
      "12757\n"
     ]
    }
   ],
   "source": [
    "print(len(df3))"
   ]
  },
  {
   "cell_type": "markdown",
   "id": "936a7ab5",
   "metadata": {},
   "source": [
    "Let's plot a graph with the number of rows for each case."
   ]
  },
  {
   "cell_type": "code",
   "execution_count": 8,
   "id": "204a743f",
   "metadata": {},
   "outputs": [
    {
     "data": {
      "image/png": "[encoded data removed]",
      "text/plain": [
       "<Figure size 432x288 with 1 Axes>"
      ]
     },
     "metadata": {
      "needs_background": "light"
     },
     "output_type": "display_data"
    }
   ],
   "source": [
    "import pandas as pd\n",
    "import seaborn as sns\n",
    "import matplotlib.pyplot as plt\n",
    "\n",
    "data = {'NumDetails': [len(df2), len(df3)]}\n",
    "df4 = pd.DataFrame(data = data)\n",
    "\n",
    "g = sns.barplot(x = df4.index, y = 'NumDetails', data = df4)\n",
    "g.set(title = 'Number of Sales Orders per Dataframe', xlabel = 'Dataframes', ylabel = 'Number of Sales Orders', xticklabels = ['All Sales Orders', 'Only More Than Two Detail Lines'])\n",
    "plt.show()"
   ]
  },
  {
   "cell_type": "markdown",
   "id": "d6bfff58",
   "metadata": {},
   "source": [
    "As we can see, less than half of the sales orders have three or more detail lines associated with them:"
   ]
  },
  {
   "cell_type": "code",
   "execution_count": 9,
   "id": "3014faef",
   "metadata": {},
   "outputs": [
    {
     "name": "stdout",
     "output_type": "stream",
     "text": [
      "40.5 % of all sales orders have three or more detail lines\n"
     ]
    }
   ],
   "source": [
    "percentage = round(len(df3)/len(df2), 3) * 100\n",
    "\n",
    "print(percentage, '% of all sales orders have three or more detail lines')"
   ]
  },
  {
   "cell_type": "markdown",
   "id": "6a9ee8c5",
   "metadata": {},
   "source": [
    "Finally, let's save the resulting dataframe to a ``.csv`` file."
   ]
  },
  {
   "cell_type": "code",
   "execution_count": 10,
   "id": "6f1e4764",
   "metadata": {},
   "outputs": [],
   "source": [
    "df3.to_csv('results/analysis1.csv')"
   ]
  }
 ],
 "metadata": {
  "kernelspec": {
   "display_name": "Python 3",
   "language": "python",
   "name": "python3"
  },
  "language_info": {
   "codemirror_mode": {
    "name": "ipython",
    "version": 3
   },
   "file_extension": ".py",
   "mimetype": "text/x-python",
   "name": "python",
   "nbconvert_exporter": "python",
   "pygments_lexer": "ipython3",
   "version": "3.9.4"
  }
 },
 "nbformat": 4,
 "nbformat_minor": 5
}
