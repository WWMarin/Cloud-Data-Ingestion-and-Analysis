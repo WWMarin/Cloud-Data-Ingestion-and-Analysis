{
 "cells": [
  {
   "cell_type": "markdown",
   "id": "10df9de2",
   "metadata": {},
   "source": [
    "# Data Analysis 5\n",
    "## In this analysis we will find the ID, date and total due for instances of sales orders made during September 2011 where the total due is over 1000, by descending order of total due"
   ]
  },
  {
   "cell_type": "markdown",
   "id": "b4ff96a7",
   "metadata": {},
   "source": [
    "First we connect to the cloud database, run an SQL query for the necessary data and store it in a pandas dataframe.\n",
    "As the only necessary table for this analysis is the ``SalesOrderHeader`` table, this query will be simple."
   ]
  },
  {
   "cell_type": "code",
   "execution_count": 1,
   "id": "dafb73c4",
   "metadata": {},
   "outputs": [],
   "source": [
    "import pandas.io.sql as sqlio\n",
    "import psycopg2\n",
    "from config import config\n",
    "\n",
    "params = config()\n",
    "conn = psycopg2.connect(**params)\n",
    "sql = 'select * from \\\"SalesOrderHeader\\\";'\n",
    "df1 = sqlio.read_sql_query(sql, conn)\n",
    "conn.close()"
   ]
  },
  {
   "cell_type": "markdown",
   "id": "e874801b",
   "metadata": {},
   "source": [
    "Let's inspect the dataframe."
   ]
  },
  {
   "cell_type": "code",
   "execution_count": 2,
   "id": "02321527",
   "metadata": {
    "scrolled": false
   },
   "outputs": [
    {
     "data": {
      "text/html": [
       "<div>\n",
       "<style scoped>\n",
       "    .dataframe tbody tr th:only-of-type {\n",
       "        vertical-align: middle;\n",
       "    }\n",
       "\n",
       "    .dataframe tbody tr th {\n",
       "        vertical-align: top;\n",
       "    }\n",
       "\n",
       "    .dataframe thead th {\n",
       "        text-align: right;\n",
       "    }\n",
       "</style>\n",
       "<table border=\"1\" class=\"dataframe\">\n",
       "  <thead>\n",
       "    <tr style=\"text-align: right;\">\n",
       "      <th></th>\n",
       "      <th>SalesOrderID</th>\n",
       "      <th>RevisionNumber</th>\n",
       "      <th>OrderDate</th>\n",
       "      <th>DueDate</th>\n",
       "      <th>ShipDate</th>\n",
       "      <th>Status</th>\n",
       "      <th>OnlineOrderFlag</th>\n",
       "      <th>SalesOrderNumber</th>\n",
       "      <th>PurchaseOrderNumber</th>\n",
       "      <th>AccountNumber</th>\n",
       "      <th>...</th>\n",
       "      <th>CreditCardID</th>\n",
       "      <th>CreditCardApprovalCode</th>\n",
       "      <th>CurrencyRateID</th>\n",
       "      <th>SubTotal</th>\n",
       "      <th>TaxAmt</th>\n",
       "      <th>Freight</th>\n",
       "      <th>TotalDue</th>\n",
       "      <th>Comment</th>\n",
       "      <th>rowguid</th>\n",
       "      <th>ModifiedDate</th>\n",
       "    </tr>\n",
       "  </thead>\n",
       "  <tbody>\n",
       "    <tr>\n",
       "      <th>0</th>\n",
       "      <td>43659</td>\n",
       "      <td>8</td>\n",
       "      <td>2011-05-31</td>\n",
       "      <td>2011-06-12</td>\n",
       "      <td>2011-06-07</td>\n",
       "      <td>5</td>\n",
       "      <td>False</td>\n",
       "      <td>SO43659</td>\n",
       "      <td>PO522145787</td>\n",
       "      <td>10-4020-000676</td>\n",
       "      <td>...</td>\n",
       "      <td>16281</td>\n",
       "      <td>105041Vi84182</td>\n",
       "      <td>None</td>\n",
       "      <td>20565.6206</td>\n",
       "      <td>1971.5149</td>\n",
       "      <td>616.0984</td>\n",
       "      <td>23153.2339</td>\n",
       "      <td>None</td>\n",
       "      <td>79B65321-39CA-4115-9CBA-8FE0903E12E6</td>\n",
       "      <td>2011-06-07</td>\n",
       "    </tr>\n",
       "    <tr>\n",
       "      <th>1</th>\n",
       "      <td>43660</td>\n",
       "      <td>8</td>\n",
       "      <td>2011-05-31</td>\n",
       "      <td>2011-06-12</td>\n",
       "      <td>2011-06-07</td>\n",
       "      <td>5</td>\n",
       "      <td>False</td>\n",
       "      <td>SO43660</td>\n",
       "      <td>PO18850127500</td>\n",
       "      <td>10-4020-000117</td>\n",
       "      <td>...</td>\n",
       "      <td>5618</td>\n",
       "      <td>115213Vi29411</td>\n",
       "      <td>None</td>\n",
       "      <td>1294.2529</td>\n",
       "      <td>124.2483</td>\n",
       "      <td>38.8276</td>\n",
       "      <td>1457.3288</td>\n",
       "      <td>None</td>\n",
       "      <td>738DC42D-D03B-48A1-9822-F95A67EA7389</td>\n",
       "      <td>2011-06-07</td>\n",
       "    </tr>\n",
       "    <tr>\n",
       "      <th>2</th>\n",
       "      <td>43661</td>\n",
       "      <td>8</td>\n",
       "      <td>2011-05-31</td>\n",
       "      <td>2011-06-12</td>\n",
       "      <td>2011-06-07</td>\n",
       "      <td>5</td>\n",
       "      <td>False</td>\n",
       "      <td>SO43661</td>\n",
       "      <td>PO18473189620</td>\n",
       "      <td>10-4020-000442</td>\n",
       "      <td>...</td>\n",
       "      <td>1346</td>\n",
       "      <td>85274Vi6854</td>\n",
       "      <td>4</td>\n",
       "      <td>32726.4786</td>\n",
       "      <td>3153.7696</td>\n",
       "      <td>985.5530</td>\n",
       "      <td>36865.8012</td>\n",
       "      <td>None</td>\n",
       "      <td>D91B9131-18A4-4A11-BC3A-90B6F53E9D74</td>\n",
       "      <td>2011-06-07</td>\n",
       "    </tr>\n",
       "  </tbody>\n",
       "</table>\n",
       "<p>3 rows × 26 columns</p>\n",
       "</div>"
      ],
      "text/plain": [
       "   SalesOrderID  RevisionNumber  OrderDate    DueDate   ShipDate  Status  \\\n",
       "0         43659               8 2011-05-31 2011-06-12 2011-06-07       5   \n",
       "1         43660               8 2011-05-31 2011-06-12 2011-06-07       5   \n",
       "2         43661               8 2011-05-31 2011-06-12 2011-06-07       5   \n",
       "\n",
       "   OnlineOrderFlag SalesOrderNumber PurchaseOrderNumber   AccountNumber  ...  \\\n",
       "0            False          SO43659         PO522145787  10-4020-000676  ...   \n",
       "1            False          SO43660       PO18850127500  10-4020-000117  ...   \n",
       "2            False          SO43661       PO18473189620  10-4020-000442  ...   \n",
       "\n",
       "   CreditCardID  CreditCardApprovalCode  CurrencyRateID    SubTotal  \\\n",
       "0         16281           105041Vi84182            None  20565.6206   \n",
       "1          5618           115213Vi29411            None   1294.2529   \n",
       "2          1346             85274Vi6854               4  32726.4786   \n",
       "\n",
       "      TaxAmt   Freight    TotalDue Comment  \\\n",
       "0  1971.5149  616.0984  23153.2339    None   \n",
       "1   124.2483   38.8276   1457.3288    None   \n",
       "2  3153.7696  985.5530  36865.8012    None   \n",
       "\n",
       "                                rowguid  ModifiedDate  \n",
       "0  79B65321-39CA-4115-9CBA-8FE0903E12E6    2011-06-07  \n",
       "1  738DC42D-D03B-48A1-9822-F95A67EA7389    2011-06-07  \n",
       "2  D91B9131-18A4-4A11-BC3A-90B6F53E9D74    2011-06-07  \n",
       "\n",
       "[3 rows x 26 columns]"
      ]
     },
     "metadata": {},
     "output_type": "display_data"
    }
   ],
   "source": [
    "from IPython.display import display\n",
    "\n",
    "display(df1.head(3))"
   ]
  },
  {
   "cell_type": "markdown",
   "id": "69d71580",
   "metadata": {},
   "source": [
    "Next we will filter the dataframe. We will drop any row in which the total due is equal or less to 1000, and we will also drop all rows for orders made outside of Septempber 2011. In the process we will also drop columns that are not relevant to our analysis."
   ]
  },
  {
   "cell_type": "code",
   "execution_count": 3,
   "id": "01add2f1",
   "metadata": {},
   "outputs": [],
   "source": [
    "df2 = df1.drop(df1[(df1['OrderDate'].dt.year != 2011) | (df1['OrderDate'].dt.month != 9) | (df1['TotalDue'] < 1000)].index)[['SalesOrderID', 'OrderDate', 'TotalDue']].reset_index(drop = True)"
   ]
  },
  {
   "cell_type": "markdown",
   "id": "44d24c55",
   "metadata": {},
   "source": [
    "This is how our dataframe looks like at the moment."
   ]
  },
  {
   "cell_type": "code",
   "execution_count": 4,
   "id": "5597f493",
   "metadata": {},
   "outputs": [
    {
     "data": {
      "text/html": [
       "<div>\n",
       "<style scoped>\n",
       "    .dataframe tbody tr th:only-of-type {\n",
       "        vertical-align: middle;\n",
       "    }\n",
       "\n",
       "    .dataframe tbody tr th {\n",
       "        vertical-align: top;\n",
       "    }\n",
       "\n",
       "    .dataframe thead th {\n",
       "        text-align: right;\n",
       "    }\n",
       "</style>\n",
       "<table border=\"1\" class=\"dataframe\">\n",
       "  <thead>\n",
       "    <tr style=\"text-align: right;\">\n",
       "      <th></th>\n",
       "      <th>SalesOrderID</th>\n",
       "      <th>OrderDate</th>\n",
       "      <th>TotalDue</th>\n",
       "    </tr>\n",
       "  </thead>\n",
       "  <tbody>\n",
       "    <tr>\n",
       "      <th>0</th>\n",
       "      <td>44324</td>\n",
       "      <td>2011-09-01</td>\n",
       "      <td>3953.9884</td>\n",
       "    </tr>\n",
       "    <tr>\n",
       "      <th>1</th>\n",
       "      <td>44325</td>\n",
       "      <td>2011-09-01</td>\n",
       "      <td>3729.3640</td>\n",
       "    </tr>\n",
       "    <tr>\n",
       "      <th>2</th>\n",
       "      <td>44326</td>\n",
       "      <td>2011-09-01</td>\n",
       "      <td>3953.9884</td>\n",
       "    </tr>\n",
       "  </tbody>\n",
       "</table>\n",
       "</div>"
      ],
      "text/plain": [
       "   SalesOrderID  OrderDate   TotalDue\n",
       "0         44324 2011-09-01  3953.9884\n",
       "1         44325 2011-09-01  3729.3640\n",
       "2         44326 2011-09-01  3953.9884"
      ]
     },
     "metadata": {},
     "output_type": "display_data"
    }
   ],
   "source": [
    "display(df2.head(3))"
   ]
  },
  {
   "cell_type": "markdown",
   "id": "c252d956",
   "metadata": {},
   "source": [
    "Finally, we will sort the dataframe descending order of total due."
   ]
  },
  {
   "cell_type": "code",
   "execution_count": 5,
   "id": "8ca41476",
   "metadata": {},
   "outputs": [
    {
     "data": {
      "text/html": [
       "<div>\n",
       "<style scoped>\n",
       "    .dataframe tbody tr th:only-of-type {\n",
       "        vertical-align: middle;\n",
       "    }\n",
       "\n",
       "    .dataframe tbody tr th {\n",
       "        vertical-align: top;\n",
       "    }\n",
       "\n",
       "    .dataframe thead th {\n",
       "        text-align: right;\n",
       "    }\n",
       "</style>\n",
       "<table border=\"1\" class=\"dataframe\">\n",
       "  <thead>\n",
       "    <tr style=\"text-align: right;\">\n",
       "      <th></th>\n",
       "      <th>SalesOrderID</th>\n",
       "      <th>OrderDate</th>\n",
       "      <th>TotalDue</th>\n",
       "    </tr>\n",
       "  </thead>\n",
       "  <tbody>\n",
       "    <tr>\n",
       "      <th>0</th>\n",
       "      <td>44324</td>\n",
       "      <td>2011-09-01</td>\n",
       "      <td>3953.9884</td>\n",
       "    </tr>\n",
       "    <tr>\n",
       "      <th>1</th>\n",
       "      <td>44419</td>\n",
       "      <td>2011-09-17</td>\n",
       "      <td>3953.9884</td>\n",
       "    </tr>\n",
       "    <tr>\n",
       "      <th>2</th>\n",
       "      <td>44433</td>\n",
       "      <td>2011-09-20</td>\n",
       "      <td>3953.9884</td>\n",
       "    </tr>\n",
       "    <tr>\n",
       "      <th>3</th>\n",
       "      <td>44432</td>\n",
       "      <td>2011-09-20</td>\n",
       "      <td>3953.9884</td>\n",
       "    </tr>\n",
       "    <tr>\n",
       "      <th>4</th>\n",
       "      <td>44431</td>\n",
       "      <td>2011-09-19</td>\n",
       "      <td>3953.9884</td>\n",
       "    </tr>\n",
       "    <tr>\n",
       "      <th>...</th>\n",
       "      <td>...</td>\n",
       "      <td>...</td>\n",
       "      <td>...</td>\n",
       "    </tr>\n",
       "    <tr>\n",
       "      <th>133</th>\n",
       "      <td>44378</td>\n",
       "      <td>2011-09-10</td>\n",
       "      <td>3729.3640</td>\n",
       "    </tr>\n",
       "    <tr>\n",
       "      <th>134</th>\n",
       "      <td>44376</td>\n",
       "      <td>2011-09-10</td>\n",
       "      <td>3729.3640</td>\n",
       "    </tr>\n",
       "    <tr>\n",
       "      <th>135</th>\n",
       "      <td>44337</td>\n",
       "      <td>2011-09-04</td>\n",
       "      <td>3729.3640</td>\n",
       "    </tr>\n",
       "    <tr>\n",
       "      <th>136</th>\n",
       "      <td>44364</td>\n",
       "      <td>2011-09-08</td>\n",
       "      <td>3729.3640</td>\n",
       "    </tr>\n",
       "    <tr>\n",
       "      <th>137</th>\n",
       "      <td>44480</td>\n",
       "      <td>2011-09-30</td>\n",
       "      <td>3729.3640</td>\n",
       "    </tr>\n",
       "  </tbody>\n",
       "</table>\n",
       "<p>138 rows × 3 columns</p>\n",
       "</div>"
      ],
      "text/plain": [
       "     SalesOrderID  OrderDate   TotalDue\n",
       "0           44324 2011-09-01  3953.9884\n",
       "1           44419 2011-09-17  3953.9884\n",
       "2           44433 2011-09-20  3953.9884\n",
       "3           44432 2011-09-20  3953.9884\n",
       "4           44431 2011-09-19  3953.9884\n",
       "..            ...        ...        ...\n",
       "133         44378 2011-09-10  3729.3640\n",
       "134         44376 2011-09-10  3729.3640\n",
       "135         44337 2011-09-04  3729.3640\n",
       "136         44364 2011-09-08  3729.3640\n",
       "137         44480 2011-09-30  3729.3640\n",
       "\n",
       "[138 rows x 3 columns]"
      ]
     },
     "metadata": {},
     "output_type": "display_data"
    }
   ],
   "source": [
    "df3 = df2.sort_values('TotalDue', ascending = False).reset_index(drop = True)\n",
    "display(df3)"
   ]
  },
  {
   "cell_type": "markdown",
   "id": "7573eeff",
   "metadata": {},
   "source": [
    "Just for fun, let's plot our data to a line chart."
   ]
  },
  {
   "cell_type": "code",
   "execution_count": 6,
   "id": "13d7e360",
   "metadata": {
    "scrolled": false
   },
   "outputs": [
    {
     "data": {
      "image/png": "[encoded data removed]",
      "text/plain": [
       "<Figure size 432x288 with 1 Axes>"
      ]
     },
     "metadata": {
      "needs_background": "light"
     },
     "output_type": "display_data"
    }
   ],
   "source": [
    "import pandas as pd\n",
    "import seaborn as sns\n",
    "import matplotlib.pyplot as plt\n",
    "\n",
    "g = sns.lineplot(x = 'OrderDate', y = 'TotalDue', data = df3)\n",
    "g.set(title = 'Total Due by Order Date', xlabel = 'Order Date', ylabel = 'Total Due', xticklabels = [])\n",
    "plt.show()"
   ]
  },
  {
   "cell_type": "markdown",
   "id": "6a9ee8c5",
   "metadata": {},
   "source": [
    "Finally, let's save the resulting dataframe to a ``.csv`` file."
   ]
  },
  {
   "cell_type": "code",
   "execution_count": 7,
   "id": "6f1e4764",
   "metadata": {},
   "outputs": [],
   "source": [
    "df3.to_csv('results/analysis5.csv')"
   ]
  }
 ],
 "metadata": {
  "kernelspec": {
   "display_name": "Python 3",
   "language": "python",
   "name": "python3"
  },
  "language_info": {
   "codemirror_mode": {
    "name": "ipython",
    "version": 3
   },
   "file_extension": ".py",
   "mimetype": "text/x-python",
   "name": "python",
   "nbconvert_exporter": "python",
   "pygments_lexer": "ipython3",
   "version": "3.9.4"
  }
 },
 "nbformat": 4,
 "nbformat_minor": 5
}
